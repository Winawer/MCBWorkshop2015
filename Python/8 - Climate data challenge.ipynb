{
 "cells": [
  {
   "cell_type": "markdown",
   "metadata": {},
   "source": [
    "Each NOAA data file is composed of a series of lines, each line a weather station record entry.  Each entry consists of a set of meterological elements, some of which are optinonal or are of variable length.  For this project, we will focus on basic elements like temperature (these are always there, and have a fixed width).  In the raw NOAA data there are many thousands of files per year over the many weather stations, and the data stretches back to 1901.  To get you started, I have extracted the first 1000 weather station observations from each year and placed it into files name XXXX.head where XXXX is the year (1901-2014).\n",
    "\n",
    "We will begin by writing functions that will take a line and extract various information, including the temperature and the latitude / longitude of the weather station.  I have provided a line of test data from a 2001 weather station reading and laid out the skeleton of the functions."
   ]
  },
  {
   "cell_type": "code",
   "execution_count": 6,
   "metadata": {
    "collapsed": false
   },
   "outputs": [
    {
     "name": "stdout",
     "output_type": "stream",
     "text": [
      "-4.5\n",
      "(2001, 1, 1)\n",
      "(70.93, -8.66)\n"
     ]
    }
   ],
   "source": [
    "test_line = \"0220010010999992001010106004+70930-008660FM-12+0009ENJA V0200601N006710090019N0100001N1-00451-00951100251ADDAA199000091AY121061AY221061GF108991081081004501999999KA1120N-00451MA1999999100141MD1310031+9999MW1031REMSYN088AAXX  01064 01001 31460 80613 11045 21095 30014 40025 53003 70322 888// 333 21045 91117;EQDQ01  00002PRCP99\"\n",
    "\n",
    "# def temperature(line):\n",
    "#     \"\"\"Return the temperature in Celsius, which is between positions 87 and 92 of the observation.  The masurement is\n",
    "#     an integer Celsius value multiplied by 10 (i.e. '-0045', which is -4.5 degrees Celsius) and must be converted. \n",
    "    \n",
    "#     Sample output: \n",
    "#     -4.5\"\"\"\n",
    "#     pass\n",
    "    \n",
    "# def timestamp(line):\n",
    "#     \"\"\"Returns a tuple with the integer year, month and day values of the observation. These are at indices 15-18, 19-20, 21-22, and 23-26.\n",
    "    \n",
    "#     Sample output:\n",
    "#     (2001,1,1)\"\"\"\n",
    "#     pass\n",
    "\n",
    "# def position(line):\n",
    "#     \"\"\"Return a tuple with the float latitude and longitude of the observation.  These are at 28:33 and 34:40 of the line respectively.\n",
    "#     The latitude and longitude values are in degrees and multiplied by 1000;  for example, +70930 is 70.93 degrees Celsius.\n",
    "    \n",
    "#     Sample output:\n",
    "#     (70.93, -8.66)\"\"\"\n",
    "#     pass\n",
    "\n",
    "def temperature(line):\n",
    "    \"\"\"Return the temperature in Celsius, which is between positions 87 and 92 of the observation.  The masurement is\n",
    "        an integer Celsius value multiplied by 10 (i.e. '-0045', which is -4.5 degrees Celsius) and must be converted.  \"\"\"\n",
    "    return float(line[87:92])/10\n",
    "\n",
    "def timestamp(line):\n",
    "    \"\"\"Returns a tuple with the integer year, month and day values of the observation. These are at indices 15-18, 19-20, 21-22, and 23-26.\"\"\"\n",
    "    return (int(line[15:19]),int(line[19:21]),int(line[21:23]))\n",
    "\n",
    "def position(line):\n",
    "    \"\"\"Return a tuple with the float latitude and longitude of the observation.  These are at 28:33 and 34:40 of the line respectively.\n",
    "    The latitude and longitude values are in degrees and multiplied by 1000;  for example, +70930 is 70.93 degrees Celsius.\"\"\"\n",
    "    return (float(line[28:34])/1000, float(line[34:41])/1000)\n",
    "\n",
    "def yearly_minimum(filename):\n",
    "    with open(fn,\"r\") as infile:\n",
    "        min_temp = 99999\n",
    "        min_timestamp = None\n",
    "        min_position = None\n",
    "\n",
    "        for line in infile.readlines():\n",
    "            temp = temperature(line)\n",
    "            if temp < min_temp:\n",
    "                min_temp = temp\n",
    "                min_timestamp = timestamp(line)\n",
    "                min_position = position(line)\n",
    "\n",
    "        return {'temperature':min_temp,'timestamp':min_timestamp,'position':min_position}\n",
    "\n",
    "import glob\n",
    "minimums = []\n",
    "for fn in glob.glob(\"data/*.head\"):\n",
    "    minimums.append(yearly_minimum(fn))\n",
    "\n",
    "\n",
    "print temperature(test_line)\n",
    "print timestamp(test_line)\n",
    "print position(test_line)\n"
   ]
  },
  {
   "cell_type": "markdown",
   "metadata": {},
   "source": [
    "Now, write a function that will take a filename for a year's worth of observations and loop through it, extracting the temperature, timestamp and position of the minimum temperature for that year."
   ]
  },
  {
   "cell_type": "code",
   "execution_count": 7,
   "metadata": {
    "collapsed": false
   },
   "outputs": [
    {
     "ename": "ImportError",
     "evalue": "No module named basemap",
     "output_type": "error",
     "traceback": [
      "\u001b[0;31m---------------------------------------------------------------------------\u001b[0m",
      "\u001b[0;31mImportError\u001b[0m                               Traceback (most recent call last)",
      "\u001b[0;32m<ipython-input-7-580995a752a8>\u001b[0m in \u001b[0;36m<module>\u001b[0;34m()\u001b[0m\n\u001b[1;32m      1\u001b[0m \u001b[0mget_ipython\u001b[0m\u001b[0;34m(\u001b[0m\u001b[0;34m)\u001b[0m\u001b[0;34m.\u001b[0m\u001b[0mmagic\u001b[0m\u001b[0;34m(\u001b[0m\u001b[0;34mu'matplotlib inline'\u001b[0m\u001b[0;34m)\u001b[0m\u001b[0;34m\u001b[0m\u001b[0m\n\u001b[0;32m----> 2\u001b[0;31m \u001b[0;32mfrom\u001b[0m \u001b[0mmpl_toolkits\u001b[0m\u001b[0;34m.\u001b[0m\u001b[0mbasemap\u001b[0m \u001b[0;32mimport\u001b[0m \u001b[0mBasemap\u001b[0m\u001b[0;34m\u001b[0m\u001b[0m\n\u001b[0m\u001b[1;32m      3\u001b[0m \u001b[0;32mimport\u001b[0m \u001b[0mmatplotlib\u001b[0m\u001b[0;34m.\u001b[0m\u001b[0mpyplot\u001b[0m \u001b[0;32mas\u001b[0m \u001b[0mplt\u001b[0m\u001b[0;34m\u001b[0m\u001b[0m\n\u001b[1;32m      4\u001b[0m m = Basemap(width=12000000,height=9000000,projection='lcc',\n\u001b[1;32m      5\u001b[0m             resolution='c',lat_1=45.,lat_2=55,lat_0=50,lon_0=-107.)\n",
      "\u001b[0;31mImportError\u001b[0m: No module named basemap"
     ]
    }
   ],
   "source": [
    "%matplotlib inline\n",
    "from mpl_toolkits.basemap import Basemap\n",
    "import matplotlib.pyplot as plt\n",
    "m = Basemap(width=12000000,height=9000000,projection='lcc',\n",
    "            resolution='c',lat_1=45.,lat_2=55,lat_0=50,lon_0=-107.)\n",
    "# draw coastlines.\n",
    "m.drawcoastlines()\n",
    "# draw a boundary around the map, fill the background.\n",
    "# this background will end up being the ocean color, since\n",
    "# the continents will be drawn on top.\n",
    "m.drawmapboundary(fill_color='aqua')\n",
    "# fill continents, set lake color same as ocean color.\n",
    "m.fillcontinents(color='coral',lake_color='aqua')\n",
    "plt.show()"
   ]
  },
  {
   "cell_type": "code",
   "execution_count": null,
   "metadata": {
    "collapsed": true
   },
   "outputs": [],
   "source": []
  }
 ],
 "metadata": {
  "kernelspec": {
   "display_name": "Python 2",
   "language": "python",
   "name": "python2"
  },
  "language_info": {
   "codemirror_mode": {
    "name": "ipython",
    "version": 2
   },
   "file_extension": ".py",
   "mimetype": "text/x-python",
   "name": "python",
   "nbconvert_exporter": "python",
   "pygments_lexer": "ipython2",
   "version": "2.7.9"
  }
 },
 "nbformat": 4,
 "nbformat_minor": 0
}
