{
 "cells": [
  {
   "cell_type": "code",
   "execution_count": null,
   "metadata": {
    "collapsed": false,
    "slideshow": {
     "slide_type": "skip"
    }
   },
   "outputs": [],
   "source": [
    "from IPython.core.display import HTML\n",
    "\n",
    "def css_styling():\n",
    "    styles = open(\"styles/workshop.css\", \"r\").read()\n",
    "    return HTML(styles)\n",
    "css_styling()"
   ]
  },
  {
   "cell_type": "code",
   "execution_count": 1,
   "metadata": {
    "collapsed": false,
    "slideshow": {
     "slide_type": "skip"
    }
   },
   "outputs": [
    {
     "name": "stdout",
     "output_type": "stream",
     "text": []
    }
   ],
   "source": [
    "cd data/Users/nelle"
   ]
  },
  {
   "cell_type": "markdown",
   "metadata": {
    "slideshow": {
     "slide_type": "skip"
    }
   },
   "source": [
    "<div class=\"alert alert-warning\">\n",
    "<h2>Goals</h2>\n",
    "</div>\n",
    "\n",
    "* Explain the similarities and differences between a file and a directory.\n",
    "* Translate an absolute path into a relative path and vice versa.\n",
    "* Construct absolute and relative paths that identify specific files and directories.\n",
    "* Explain the steps in the shell's read-run-print cycle.\n",
    "* Identify the actual command, flags, and filenames in a command-line call.\n",
    "* Demonstrate the use of tab completion, and explain its advantages."
   ]
  },
  {
   "cell_type": "markdown",
   "metadata": {
    "slideshow": {
     "slide_type": "skip"
    }
   },
   "source": [
    "The part of the operating system responsible for managing files and directories is called the file system. It organizes our data into files, which hold information, and directories (also called “folders”), which hold files or other directories.\n",
    "\n",
    "Several commands are frequently used to create, inspect, rename, and delete files and directories. To start exploring them, let’s open a shell window:"
   ]
  },
  {
   "cell_type": "markdown",
   "metadata": {
    "slideshow": {
     "slide_type": "skip"
    }
   },
   "source": [
    "$"
   ]
  },
  {
   "cell_type": "markdown",
   "metadata": {
    "slideshow": {
     "slide_type": "skip"
    }
   },
   "source": [
    "The dollar sign is a **prompt**, which shows us that the shell is waiting for input; your shell may show something more elaborate."
   ]
  },
  {
   "cell_type": "markdown",
   "metadata": {
    "slideshow": {
     "slide_type": "skip"
    }
   },
   "source": [
    "Type the command ```whoami```, then press the Enter key (sometimes marked Return) to send the command to the shell. The command’s output is the ID of the current user, i.e., it shows us who the shell thinks we are:"
   ]
  },
  {
   "cell_type": "code",
   "execution_count": 2,
   "metadata": {
    "collapsed": false,
    "slideshow": {
     "slide_type": "skip"
    }
   },
   "outputs": [
    {
     "name": "stdout",
     "output_type": "stream",
     "text": [
      "winawer\r\n"
     ]
    }
   ],
   "source": [
    "whoami"
   ]
  },
  {
   "cell_type": "markdown",
   "metadata": {
    "slideshow": {
     "slide_type": "skip"
    }
   },
   "source": [
    "More specifically, when we type ```whoami```, the shell:\n",
    "\n",
    "1. finds a program called ```whoami```,\n",
    "2. runs that program,\n",
    "3. displays that program's output, then\n",
    "4. displays a new prompt to tell us that it's ready for more commands.\n",
    "\n",
    "Next, let’s find out where we are by running a command called ```pwd``` (which stands for “print working directory”). At any moment, our **current working directory** is our current default directory, i.e., the directory that the computer assumes we want to run commands in unless we explicitly specify something else. Here, the computer’s response is ```/Users/nelle```, which is Nelle’s **home directory**:"
   ]
  },
  {
   "cell_type": "code",
   "execution_count": 3,
   "metadata": {
    "collapsed": false,
    "slideshow": {
     "slide_type": "skip"
    }
   },
   "outputs": [
    {
     "name": "stdout",
     "output_type": "stream",
     "text": [
      "/Users/winawer/Dropbox/LAb/Talks/MCBWorkshop2015/Unix_Git/data/Users/nelle\r\n"
     ]
    }
   ],
   "source": [
    "pwd"
   ]
  },
  {
   "cell_type": "markdown",
   "metadata": {
    "slideshow": {
     "slide_type": "skip"
    }
   },
   "source": [
    "<div class=\"alert alert-info\">\n",
    "<h2>Home directory</h2>\n",
    "</div>\n",
    "\n",
    "The home directory path will look different on different operating systems. On Linux it will look like ```/home/nelle```, and on Windows it will be similar to ```C:\\Documents and Settings\\nelle```. Note that it may look slightly different for different versions of Windows."
   ]
  },
  {
   "cell_type": "markdown",
   "metadata": {
    "slideshow": {
     "slide_type": "skip"
    }
   },
   "source": [
    "<div class=\"alert alert-info\">\n",
    "<h2>Alphabet Soup</h2>\n",
    "</div>\n",
    "\n",
    "If the command to find out who we are is ```whoami```, the command to find out where we are ought to be called ```whereami```, so why is it ```pwd``` instead? The usual answer is that in the early 1970s, when Unix was first being developed, every keystroke counted: the devices of the day were slow, and backspacing on a teletype was so painful that cutting the number of keystrokes in order to cut the number of typing mistakes was actually a win for usability. The reality is that commands were added to Unix one by one, without any master plan, by people who were immersed in its jargon. The result is as inconsistent as the roolz uv Inglish speling, but we’re stuck with it now."
   ]
  },
  {
   "cell_type": "markdown",
   "metadata": {
    "slideshow": {
     "slide_type": "skip"
    }
   },
   "source": [
    "To understand what a “home directory” is, let’s have a look at how the file system as a whole is organized. At the top is the **root directory** that holds everything else. We refer to it using a slash character ```/``` on its own; this is the leading slash in ```/Users/nelle```.\n",
    "\n",
    "Inside that directory are several other directories: ```bin``` (which is where some built-in programs are stored), ```data``` (for miscellaneous data files), ```users``` (where users’ personal directories are located), ```tmp``` (for temporary files that don’t need to be stored long-term), and so on:"
   ]
  },
  {
   "cell_type": "markdown",
   "metadata": {
    "slideshow": {
     "slide_type": "slide"
    }
   },
   "source": [
    "![Filesystem](images/filesystem.svg)"
   ]
  },
  {
   "cell_type": "markdown",
   "metadata": {
    "slideshow": {
     "slide_type": "skip"
    }
   },
   "source": [
    "We know that our current working directory ```/Users/nelle``` is stored inside ```/Users``` because ```/Users``` is the first part of its name. Similarly, we know that ```/Users``` is stored inside the root directory ```/``` because its name begins with ```/```.\n",
    "\n",
    "Underneath ```/Users```, we find one directory for each user with an account on this machine. The Mummy’s files are stored in ```/Users/imhotep```, Wolfman’s in ```/Users/larry```, and ours in ```/Users/nelle```, which is why ```nelle``` is the last part of the directory’s name."
   ]
  },
  {
   "cell_type": "markdown",
   "metadata": {
    "slideshow": {
     "slide_type": "slide"
    }
   },
   "source": [
    "![Home directories](images/home-directories.svg)"
   ]
  },
  {
   "cell_type": "markdown",
   "metadata": {
    "slideshow": {
     "slide_type": "skip"
    }
   },
   "source": [
    "<div class=\"alert alert-info\">\n",
    "Notice that there are two meanings for the / character. When it appears at the front of a file or directory name, it refers to the root directory. When it appears inside a name, it’s just a separator.\n",
    "</div>"
   ]
  },
  {
   "cell_type": "markdown",
   "metadata": {
    "slideshow": {
     "slide_type": "skip"
    }
   },
   "source": [
    "Let’s see what’s in Nelle’s home directory by running ls, which stands for “listing”:"
   ]
  },
  {
   "cell_type": "code",
   "execution_count": 4,
   "metadata": {
    "collapsed": false,
    "slideshow": {
     "slide_type": "skip"
    }
   },
   "outputs": [
    {
     "name": "stdout",
     "output_type": "stream",
     "text": [
      "\u001b[36mDesktop\u001b[39;49m\u001b[0m            \u001b[36mmolecules\u001b[39;49m\u001b[0m          pizza.cfg\r\n",
      "\u001b[36mcreatures\u001b[39;49m\u001b[0m          \u001b[36mnorth-pacific-gyre\u001b[39;49m\u001b[0m solar.pdf\r\n",
      "\u001b[36mdata\u001b[39;49m\u001b[0m               notes.txt          \u001b[36mwriting\u001b[39;49m\u001b[0m\r\n"
     ]
    }
   ],
   "source": [
    "ls"
   ]
  },
  {
   "cell_type": "markdown",
   "metadata": {
    "slideshow": {
     "slide_type": "slide"
    }
   },
   "source": [
    "![Home directory](images/homedir.svg)"
   ]
  },
  {
   "cell_type": "markdown",
   "metadata": {
    "slideshow": {
     "slide_type": "skip"
    }
   },
   "source": [
    "```ls``` prints the names of the files and directories in the current directory in alphabetical order, arrange neatly into columns. We can make its output more comprehensible by using the **flag** -F, which tells ```ls``` to add a trailing ```/``` to the names of directories:"
   ]
  },
  {
   "cell_type": "code",
   "execution_count": 5,
   "metadata": {
    "collapsed": false,
    "slideshow": {
     "slide_type": "skip"
    }
   },
   "outputs": [
    {
     "name": "stdout",
     "output_type": "stream",
     "text": [
      "\u001b[36mDesktop\u001b[39;49m\u001b[0m/            \u001b[36mmolecules\u001b[39;49m\u001b[0m/          pizza.cfg\r\n",
      "\u001b[36mcreatures\u001b[39;49m\u001b[0m/          \u001b[36mnorth-pacific-gyre\u001b[39;49m\u001b[0m/ solar.pdf\r\n",
      "\u001b[36mdata\u001b[39;49m\u001b[0m/               notes.txt           \u001b[36mwriting\u001b[39;49m\u001b[0m/\r\n"
     ]
    }
   ],
   "source": [
    "ls -F"
   ]
  },
  {
   "cell_type": "markdown",
   "metadata": {
    "slideshow": {
     "slide_type": "skip"
    }
   },
   "source": [
    "Here, we can see that ```/Users/nelle``` contains six **sub-directories**. The names that don’t have trailing slashes, like ```notes.txt```, ```pizza.cfg```, and ```solar.pdf```, are plain old files. And note that there is a space between ```ls``` and ```-F```: without it, the shell thinks we’re trying to run a command called ```ls-F```, which doesn’t exist."
   ]
  },
  {
   "cell_type": "markdown",
   "metadata": {
    "slideshow": {
     "slide_type": "slide"
    }
   },
   "source": [
    "---\n",
    "\n",
    "#### Exercise 1:\n",
    "\n",
    "There are many commands to use and remember in the Unix command line.  Two tools will prove invaluable to you when you're trying to figure out what command to use and how to use it.  The first is the obvious one:  Google (Yahoo, Bing, DuckDuckGo, etc.).  But for more specific, focused, and local help (and help that is immune to connection loss), you can use ```man```.  For this exercise, type ```man ls``` into your terminal to see the help on the ```ls``` command.  \n",
    "\n",
    "Two downsides of man are that (1) the documentation is extremely thorough but can be difficult to parse, and (2) in order to use ```man```, you have to know the name of the command you want to learn about.  However, ```man``` can be quick and easy to use when you've forgotten what the ```-h``` flag does and need to look it up.\n",
    "\n",
    "---"
   ]
  },
  {
   "cell_type": "markdown",
   "metadata": {
    "slideshow": {
     "slide_type": "skip"
    }
   },
   "source": [
    "Now let’s take a look at what’s in Nelle’s data directory by running ```ls -F data```, i.e., the command ```ls``` with the arguments ```-F``` and ```data```. The second argument — the one without a leading dash — tells ls that we want a listing of something other than our current working directory:"
   ]
  },
  {
   "cell_type": "code",
   "execution_count": 6,
   "metadata": {
    "collapsed": false,
    "slideshow": {
     "slide_type": "skip"
    }
   },
   "outputs": [
    {
     "name": "stdout",
     "output_type": "stream",
     "text": [
      "amino-acids.txt  morse.txt        planets.txt\r\n",
      "\u001b[36melements\u001b[39;49m\u001b[0m/        \u001b[36mpdb\u001b[39;49m\u001b[0m/             sunspot.txt\r\n"
     ]
    }
   ],
   "source": [
    "ls -F data"
   ]
  },
  {
   "cell_type": "markdown",
   "metadata": {
    "slideshow": {
     "slide_type": "skip"
    }
   },
   "source": [
    "The output shows us that there are four text files and two sub-sub-directories. Organizing things hierarchically in this way helps us keep track of our work: it’s possible to put hundreds of files in our home directory, just as it’s possible to pile hundreds of printed papers on our desk, but it’s a self-defeating strategy.\n",
    "\n",
    "Notice, by the way that we spelled the directory name ```data```. It doesn’t have a trailing slash: that’s added to directory names by ```ls``` when we use the ```-F``` flag to help us tell things apart. And it doesn’t begin with a slash because it’s a **relative path**, i.e., it tells ```ls``` how to find something from where we are, rather than from the root of the file system."
   ]
  },
  {
   "cell_type": "markdown",
   "metadata": {
    "slideshow": {
     "slide_type": "skip"
    }
   },
   "source": [
    "<div class=\"alert alert-info\">\n",
    "<h3>Parameters vs. arguments:</h3> According to <a href=\"https://en.wikipedia.org/wiki/Parameter_(computer_programming)#Parameters_and_arguments\">Wikipedia</a>, the terms argument and <b>parameter</b> mean slightly different things. In practice, however, most people use them interchangeably or inconsistently, so we will too.\n",
    "</div>"
   ]
  },
  {
   "cell_type": "markdown",
   "metadata": {
    "slideshow": {
     "slide_type": "skip"
    }
   },
   "source": [
    "If we run ```ls -F /data``` (with a leading slash) we get a different answer, because /data is an absolute path:"
   ]
  },
  {
   "cell_type": "code",
   "execution_count": 7,
   "metadata": {
    "collapsed": false,
    "slideshow": {
     "slide_type": "skip"
    }
   },
   "outputs": [
    {
     "name": "stdout",
     "output_type": "stream",
     "text": [
      "ls: /data: No such file or directory\r\n"
     ]
    }
   ],
   "source": [
    "ls -F /data"
   ]
  },
  {
   "cell_type": "markdown",
   "metadata": {
    "slideshow": {
     "slide_type": "skip"
    }
   },
   "source": [
    "The leading ```/``` tells the computer to follow the path from the root of the file system, so it always refers to exactly one directory, no matter where we are when we run the command.\n",
    "\n",
    "What if we want to change our current working directory? Before we do this, pwd shows us that we’re in ```/Users/nelle```, and ```ls``` without any arguments shows us that directory’s contents:"
   ]
  },
  {
   "cell_type": "markdown",
   "metadata": {
    "slideshow": {
     "slide_type": "slide"
    }
   },
   "source": [
    "---\n",
    "\n",
    "#### Exercise 2:\n",
    "\n",
    "When you run ```ls -F /data```, you'll probably get an error (unless, by coincidence, you have a directory called ```data``` at your root.  That's because we're adopting a pleasant fiction:  that we're the user Nelle.  In fact, you already have a directory structure in place.  Most of the time, we're going to use relative paths, but absolute paths are important to understand.\n",
    "\n",
    "For this exercise, you will need to determine the correct argument to ```ls -F``` that will display Nelle's data directory.  Use ```pwd``` to determine what the absolute path should be, and pass that to ```ls -F```.\n",
    "\n",
    "The absolute path should be a long string, something like ```/Users/steven/Desktop/MCBWorkshop2015/data/Users/nelle/data```.  It will be different for your computer, and if you're running Windows, it will look like ```C:\\...\\...\\```.\n",
    "\n",
    "---"
   ]
  },
  {
   "cell_type": "code",
   "execution_count": 8,
   "metadata": {
    "collapsed": false,
    "slideshow": {
     "slide_type": "skip"
    }
   },
   "outputs": [
    {
     "name": "stdout",
     "output_type": "stream",
     "text": [
      "/Users/winawer/Dropbox/LAb/Talks/MCBWorkshop2015/Unix_Git/data/Users/nelle\r\n"
     ]
    }
   ],
   "source": [
    "pwd"
   ]
  },
  {
   "cell_type": "code",
   "execution_count": 9,
   "metadata": {
    "collapsed": false,
    "slideshow": {
     "slide_type": "skip"
    }
   },
   "outputs": [
    {
     "name": "stdout",
     "output_type": "stream",
     "text": [
      "\u001b[36mDesktop\u001b[39;49m\u001b[0m            \u001b[36mmolecules\u001b[39;49m\u001b[0m          pizza.cfg\r\n",
      "\u001b[36mcreatures\u001b[39;49m\u001b[0m          \u001b[36mnorth-pacific-gyre\u001b[39;49m\u001b[0m solar.pdf\r\n",
      "\u001b[36mdata\u001b[39;49m\u001b[0m               notes.txt          \u001b[36mwriting\u001b[39;49m\u001b[0m\r\n"
     ]
    }
   ],
   "source": [
    "ls "
   ]
  },
  {
   "cell_type": "markdown",
   "metadata": {
    "slideshow": {
     "slide_type": "skip"
    }
   },
   "source": [
    "We can use ```cd``` followed by a directory name to change our working directory. ```cd``` stands for “change directory”, which is a bit misleading: the command doesn’t change the directory, it changes the shell’s idea of what directory we are in."
   ]
  },
  {
   "cell_type": "code",
   "execution_count": 10,
   "metadata": {
    "collapsed": false,
    "slideshow": {
     "slide_type": "skip"
    }
   },
   "outputs": [
    {
     "name": "stdout",
     "output_type": "stream",
     "text": []
    }
   ],
   "source": [
    "cd data"
   ]
  },
  {
   "cell_type": "markdown",
   "metadata": {
    "slideshow": {
     "slide_type": "skip"
    }
   },
   "source": [
    "```cd``` doesn’t print anything, but if we run ```pwd``` after it, we can see that we are now in ```/Users/nelle/data```. If we run ```ls``` without arguments now, it lists the contents of ```/Users/nelle/data```, because that’s where we now are:"
   ]
  },
  {
   "cell_type": "code",
   "execution_count": 11,
   "metadata": {
    "collapsed": false,
    "slideshow": {
     "slide_type": "skip"
    }
   },
   "outputs": [
    {
     "name": "stdout",
     "output_type": "stream",
     "text": [
      "/Users/winawer/Dropbox/LAb/Talks/MCBWorkshop2015/Unix_Git/data/Users/nelle/data\r\n"
     ]
    }
   ],
   "source": [
    "pwd"
   ]
  },
  {
   "cell_type": "code",
   "execution_count": 12,
   "metadata": {
    "collapsed": false,
    "slideshow": {
     "slide_type": "skip"
    }
   },
   "outputs": [
    {
     "name": "stdout",
     "output_type": "stream",
     "text": [
      "amino-acids.txt  morse.txt        planets.txt\r\n",
      "\u001b[36melements\u001b[39;49m\u001b[0m/        \u001b[36mpdb\u001b[39;49m\u001b[0m/             sunspot.txt\r\n"
     ]
    }
   ],
   "source": [
    "ls -F"
   ]
  },
  {
   "cell_type": "markdown",
   "metadata": {
    "slideshow": {
     "slide_type": "skip"
    }
   },
   "source": [
    "We now know how to go down the directory tree: how do we go up? We could use an absolute path, but it is almost always simpler to use ```cd ..``` to go up one level."
   ]
  },
  {
   "cell_type": "code",
   "execution_count": 13,
   "metadata": {
    "collapsed": false,
    "slideshow": {
     "slide_type": "skip"
    }
   },
   "outputs": [
    {
     "name": "stdout",
     "output_type": "stream",
     "text": []
    }
   ],
   "source": [
    "cd .."
   ]
  },
  {
   "cell_type": "markdown",
   "metadata": {
    "collapsed": true,
    "slideshow": {
     "slide_type": "skip"
    }
   },
   "source": [
    "```..``` is a special directory name meaning “the directory containing this one”, or more succinctly, the *parent* of the current directory. Sure enough, if we run ```pwd``` after running ```cd ..```, we’re back in /Users/nelle:"
   ]
  },
  {
   "cell_type": "code",
   "execution_count": 14,
   "metadata": {
    "collapsed": false,
    "slideshow": {
     "slide_type": "skip"
    }
   },
   "outputs": [
    {
     "name": "stdout",
     "output_type": "stream",
     "text": [
      "/Users/winawer/Dropbox/LAb/Talks/MCBWorkshop2015/Unix_Git/data/Users/nelle\r\n"
     ]
    }
   ],
   "source": [
    "pwd"
   ]
  },
  {
   "cell_type": "markdown",
   "metadata": {
    "slideshow": {
     "slide_type": "skip"
    }
   },
   "source": [
    "The special directory ```..``` doesn’t usually show up when we run ```ls```. If we want to display it, we can give ls the -a flag:"
   ]
  },
  {
   "cell_type": "code",
   "execution_count": 15,
   "metadata": {
    "collapsed": false,
    "slideshow": {
     "slide_type": "skip"
    }
   },
   "outputs": [
    {
     "name": "stdout",
     "output_type": "stream",
     "text": [
      "\u001b[36m.\u001b[39;49m\u001b[0m/                  \u001b[36mDesktop\u001b[39;49m\u001b[0m/            \u001b[36mmolecules\u001b[39;49m\u001b[0m/          pizza.cfg\r\n",
      "\u001b[36m..\u001b[39;49m\u001b[0m/                 \u001b[36mcreatures\u001b[39;49m\u001b[0m/          \u001b[36mnorth-pacific-gyre\u001b[39;49m\u001b[0m/ solar.pdf\r\n",
      ".bash_profile       \u001b[36mdata\u001b[39;49m\u001b[0m/               notes.txt           \u001b[36mwriting\u001b[39;49m\u001b[0m/\r\n"
     ]
    }
   ],
   "source": [
    "ls -F -a"
   ]
  },
  {
   "cell_type": "markdown",
   "metadata": {
    "slideshow": {
     "slide_type": "skip"
    }
   },
   "source": [
    "-a stands for “show all”; it forces ```ls``` to show us file and directory names that begin with ```.```, such as ```..``` (which, if we’re in ```/Users/nelle```, refers to the ```/Users``` directory). As you can see, it also displays another special directory that’s just called ```.```, which means “the current working directory”. It may seem redundant to have a name for it, but we’ll see some uses for it soon. Finally, we also see a file called ```.bash_profile```. This file usually contains settings to customize the shell (terminal). For this lesson material it does not contain any settings. There may also be similar files called ```.bashrc``` or ```.bash_login```. The ```.``` prefix is used to prevent these configuration files from cluttering the terminal when a standard ```ls``` command is used."
   ]
  },
  {
   "cell_type": "markdown",
   "metadata": {
    "slideshow": {
     "slide_type": "skip"
    }
   },
   "source": [
    "### Nelle's pipeline: Organizing files\n",
    "\n",
    "Knowing just this much about files and directories, Nelle is ready to organize the files that the protein assay machine will create. First, she creates a directory called ```north-pacific-gyre``` (to remind herself where the data came from). Inside that, she creates a directory called ```2012-07-03```, which is the date she started processing the samples. She used to use names like ```conference-paper``` and ```revised-results```, but she found them hard to understand after a couple of years. (The final straw was when she found herself creating a directory called ```revised-revised-results-3```.)"
   ]
  },
  {
   "cell_type": "markdown",
   "metadata": {
    "slideshow": {
     "slide_type": "skip"
    }
   },
   "source": [
    ">Nelle names her directories “year-month-day”, with leading zeroes for months and days, because the shell displays file and directory names in alphabetical order. If she used month names, December would come before July; if she didn’t use leading zeroes, November (‘11’) would come before July (‘7’)."
   ]
  },
  {
   "cell_type": "markdown",
   "metadata": {
    "slideshow": {
     "slide_type": "skip"
    }
   },
   "source": [
    "Each of her physical samples is labelled according to her lab’s convention with a unique ten-character ID, such as “NENE01729A”. This is what she used in her collection log to record the location, time, depth, and other characteristics of the sample, so she decides to use it as part of each data file’s name. Since the assay machine’s output is plain text, she will call her files ```NENE01729A.txt```, ```NENE01812A.txt```, and so on. All 1520 files will go into the same directory.\n",
    "\n",
    "If she is in her home directory, Nelle can see what files she has using the command:"
   ]
  },
  {
   "cell_type": "code",
   "execution_count": 17,
   "metadata": {
    "collapsed": false,
    "slideshow": {
     "slide_type": "skip"
    }
   },
   "outputs": [
    {
     "name": "stdout",
     "output_type": "stream",
     "text": [
      "NENE01729A.txt NENE01751B.txt NENE01971Z.txt NENE02040A.txt NENE02043B.txt\r\n",
      "NENE01729B.txt NENE01812A.txt NENE01978A.txt NENE02040B.txt goodiff\r\n",
      "NENE01736A.txt NENE01843A.txt NENE01978B.txt NENE02040Z.txt goostats\r\n",
      "NENE01751A.txt NENE01843B.txt NENE02018B.txt NENE02043A.txt\r\n"
     ]
    }
   ],
   "source": [
    "ls north-pacific-gyre/2012-07-03/"
   ]
  },
  {
   "cell_type": "code",
   "execution_count": 18,
   "metadata": {
    "collapsed": false,
    "slideshow": {
     "slide_type": "skip"
    }
   },
   "outputs": [
    {
     "name": "stdout",
     "output_type": "stream",
     "text": [
      "bash: That: command not found\r\n"
     ]
    }
   ],
   "source": [
    "That is a lot to type, but she can let the shell do most of hte work through what is called *tab completion*.  If she types:"
   ]
  },
  {
   "cell_type": "code",
   "execution_count": 19,
   "metadata": {
    "collapsed": false,
    "slideshow": {
     "slide_type": "skip"
    }
   },
   "outputs": [
    {
     "name": "stdout",
     "output_type": "stream",
     "text": [
      "ls: nor: No such file or directory\r\n"
     ]
    }
   ],
   "source": [
    "ls nor"
   ]
  },
  {
   "cell_type": "markdown",
   "metadata": {
    "slideshow": {
     "slide_type": "skip"
    }
   },
   "source": [
    "and then presses ```tab``` (the tab key on her keyboard), the shell automatically completes the directory name for her:\n"
   ]
  },
  {
   "cell_type": "code",
   "execution_count": 21,
   "metadata": {
    "collapsed": false,
    "slideshow": {
     "slide_type": "skip"
    }
   },
   "outputs": [
    {
     "name": "stdout",
     "output_type": "stream",
     "text": [
      "\u001b[36m2012-07-03\u001b[39;49m\u001b[0m\r\n"
     ]
    }
   ],
   "source": [
    "ls north-pacific-gyre/"
   ]
  },
  {
   "cell_type": "markdown",
   "metadata": {
    "slideshow": {
     "slide_type": "skip"
    }
   },
   "source": [
    "If she presses tab again, Bash will add ```2012-07-03``` to the command, since it is the only possible completion.  Pressing tab again does nothing, since there are 1520 possibilities;  pressing tab twice brings up a list of all the files and so on.  This is called *tab completion*, and we will se in many other tools as we go on.  "
   ]
  }
 ],
 "metadata": {
  "celltoolbar": "Slideshow",
  "kernelspec": {
   "display_name": "Bash",
   "language": "bash",
   "name": "bash"
  },
  "language_info": {
   "codemirror_mode": "shell",
   "file_extension": ".sh",
   "mimetype": "text/x-sh",
   "name": "bash"
  }
 },
 "nbformat": 4,
 "nbformat_minor": 0
}
