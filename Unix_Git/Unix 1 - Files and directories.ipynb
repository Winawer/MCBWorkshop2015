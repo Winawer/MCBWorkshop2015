{
 "cells": [
  {
   "cell_type": "code",
   "execution_count": null,
   "metadata": {
    "collapsed": true
   },
   "outputs": [],
   "source": [
    "from IPython.core.display import HTML\n",
    "\n",
    "def css_styling():\n",
    "    styles = open(\"styles/workshop.css\", \"r\").read()\n",
    "    return HTML(styles)\n",
    "css_styling()"
   ]
  },
  {
   "cell_type": "markdown",
   "metadata": {},
   "source": [
    "<div class=\"alert alert-warning\">\n",
    "<h2>Goals</h2>\n",
    "</div>\n",
    "\n",
    "* Explain the similarities and differences between a file and a directory.\n",
    "* Translate an absolute path into a relative path and vice versa.\n",
    "* Construct absolute and relative paths that identify specific files and directories.\n",
    "* Explain the steps in the shell's read-run-print cycle.\n",
    "* Identify the actual command, flags, and filenames in a command-line call.\n",
    "* Demonstrate the use of tab completion, and explain its advantages."
   ]
  },
  {
   "cell_type": "markdown",
   "metadata": {},
   "source": [
    "The part of the operating system responsible for managing files and directories is called the file system. It organizes our data into files, which hold information, and directories (also called “folders”), which hold files or other directories.\n",
    "\n",
    "Several commands are frequently used to create, inspect, rename, and delete files and directories. To start exploring them, let’s open a shell window:"
   ]
  },
  {
   "cell_type": "markdown",
   "metadata": {},
   "source": [
    "$"
   ]
  },
  {
   "cell_type": "markdown",
   "metadata": {},
   "source": [
    "The dollar sign is a **prompt**, which shows us that the shell is waiting for input; your shell may show something more elaborate."
   ]
  },
  {
   "cell_type": "markdown",
   "metadata": {},
   "source": [
    "Type the command ```whoami```, then press the Enter key (sometimes marked Return) to send the command to the shell. The command’s output is the ID of the current user, i.e., it shows us who the shell thinks we are:"
   ]
  },
  {
   "cell_type": "code",
   "execution_count": 9,
   "metadata": {
    "collapsed": false
   },
   "outputs": [
    {
     "name": "stdout",
     "output_type": "stream",
     "text": [
      "winawer\r\n"
     ]
    }
   ],
   "source": [
    "whoami"
   ]
  },
  {
   "cell_type": "markdown",
   "metadata": {},
   "source": [
    "More specifically, when we type ```whoami```, the shell:\n",
    "\n",
    "1. finds a program called ```whoami```,\n",
    "2. runs that program,\n",
    "3. displays that program's output, then\n",
    "4. displays a new prompt to tell us that it's ready for more commands.\n",
    "\n",
    "Next, let’s find out where we are by running a command called ```pwd``` (which stands for “print working directory”). At any moment, our **current working directory** is our current default directory, i.e., the directory that the computer assumes we want to run commands in unless we explicitly specify something else. Here, the computer’s response is ```/Users/nelle```, which is Nelle’s **home directory**:"
   ]
  },
  {
   "cell_type": "code",
   "execution_count": 10,
   "metadata": {
    "collapsed": false
   },
   "outputs": [
    {
     "name": "stdout",
     "output_type": "stream",
     "text": [
      "/Users/winawer/Dropbox/LAb/Talks/MCBWorkshop2015/Unix_Git\r\n"
     ]
    }
   ],
   "source": [
    "pwd"
   ]
  },
  {
   "cell_type": "markdown",
   "metadata": {},
   "source": [
    "<div class=\"alert alert-info\">\n",
    "<h2>Home directory</h2>\n",
    "</div>\n",
    "\n",
    "The home directory path will look different on different operating systems. On Linux it will look like ```/home/nelle```, and on Windows it will be similar to ```C:\\Documents and Settings\\nelle```. Note that it may look slightly different for different versions of Windows."
   ]
  },
  {
   "cell_type": "code",
   "execution_count": null,
   "metadata": {
    "collapsed": true
   },
   "outputs": [],
   "source": []
  },
  {
   "cell_type": "code",
   "execution_count": null,
   "metadata": {
    "collapsed": true
   },
   "outputs": [],
   "source": []
  }
 ],
 "metadata": {
  "kernelspec": {
   "display_name": "Bash",
   "language": "bash",
   "name": "bash"
  },
  "language_info": {
   "codemirror_mode": "shell",
   "file_extension": ".sh",
   "mimetype": "text/x-sh",
   "name": "bash"
  }
 },
 "nbformat": 4,
 "nbformat_minor": 0
}
