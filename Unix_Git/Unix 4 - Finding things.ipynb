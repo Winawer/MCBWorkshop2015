{
 "cells": [
  {
   "cell_type": "code",
   "execution_count": 3,
   "metadata": {
    "collapsed": false,
    "slideshow": {
     "slide_type": "skip"
    }
   },
   "outputs": [
    {
     "name": "stdout",
     "output_type": "stream",
     "text": []
    }
   ],
   "source": [
    "cd data/Users/nelle"
   ]
  },
  {
   "cell_type": "markdown",
   "metadata": {
    "slideshow": {
     "slide_type": "skip"
    }
   },
   "source": [
    "<div class=\"alert alert-warning\">\n",
    "<h2>Goals</h2>\n",
    "</div>\n",
    "\n"
   ]
  },
  {
   "cell_type": "markdown",
   "metadata": {
    "slideshow": {
     "slide_type": "skip"
    }
   },
   "source": [
    "* Use ```grep``` to select lines from text files that match simple patterns.\n",
    "* Use ```find``` to find files whose names match simple patterns.\n",
    "* Use the output of one command as the command-line parameters to another command.\n",
    "* Explain what is meant by “text” and “binary” files, and why many common tools don’t handle the latter well."
   ]
  },
  {
   "cell_type": "markdown",
   "metadata": {
    "slideshow": {
     "slide_type": "skip"
    }
   },
   "source": [
    "You can guess someone’s age by how they talk about search: young people use “Google” as a verb, while crusty old Unix programmers use “grep”. The word is a contraction of “global/regular expression/print”, a common sequence of operations in early Unix text editors. It is also the name of a very useful command-line program.\n",
    "\n",
    "grep finds and prints lines in files that match a pattern. For our examples, we will use a file that contains three haikus taken from a 1998 competition in Salon magazine. For this set of examples we’re going to be working in the writing subdirectory:"
   ]
  },
  {
   "cell_type": "code",
   "execution_count": 4,
   "metadata": {
    "collapsed": false,
    "slideshow": {
     "slide_type": "skip"
    }
   },
   "outputs": [
    {
     "name": "stdout",
     "output_type": "stream",
     "text": [
      "The Tao that is seen\r\n",
      "Is not the true Tao, until\r\n",
      "You bring fresh toner.\r\n",
      "\r\n",
      "With searching comes loss\r\n",
      "and the presence of absence:\r\n",
      "\"My Thesis\" not found.\r\n",
      "\r\n",
      "Yesterday it worked\r\n",
      "Today it is not working\r\n",
      "Software is like that.\r\n"
     ]
    }
   ],
   "source": [
    "cd writing\n",
    "cat haiku.txt"
   ]
  },
  {
   "cell_type": "markdown",
   "metadata": {
    "slideshow": {
     "slide_type": "skip"
    }
   },
   "source": [
    "Let’s find lines that contain the word “not”:"
   ]
  },
  {
   "cell_type": "code",
   "execution_count": 5,
   "metadata": {
    "collapsed": false,
    "slideshow": {
     "slide_type": "skip"
    }
   },
   "outputs": [
    {
     "name": "stdout",
     "output_type": "stream",
     "text": [
      "Is not the true Tao, until\r\n",
      "\"My Thesis\" not found.\r\n",
      "Today it is not working\r\n"
     ]
    }
   ],
   "source": [
    "grep not haiku.txt"
   ]
  },
  {
   "cell_type": "markdown",
   "metadata": {
    "slideshow": {
     "slide_type": "skip"
    }
   },
   "source": [
    "Here, ```not``` is the pattern we’re searching for. It’s pretty simple: every alphanumeric character matches against itself. After the pattern comes the name or names of the files we’re searching in. The output is the three lines in the file that contain the letters “not”.\n",
    "\n",
    "Let's try a different pattern: \"day\"."
   ]
  },
  {
   "cell_type": "code",
   "execution_count": 6,
   "metadata": {
    "collapsed": false,
    "slideshow": {
     "slide_type": "skip"
    }
   },
   "outputs": [
    {
     "name": "stdout",
     "output_type": "stream",
     "text": [
      "Yesterday it worked\r\n",
      "Today it is not working\r\n"
     ]
    }
   ],
   "source": [
    "grep day haiku.txt"
   ]
  },
  {
   "cell_type": "markdown",
   "metadata": {
    "slideshow": {
     "slide_type": "skip"
    }
   },
   "source": [
    "This time, two lines that include the letters “day” are outputted. However, these letters are contained within larger words. To restrict matches to lines containing the word “day” on its own, we can give grep with the ```-w``` flag. This will limit matches to word boundaries."
   ]
  },
  {
   "cell_type": "code",
   "execution_count": 7,
   "metadata": {
    "collapsed": false,
    "slideshow": {
     "slide_type": "skip"
    }
   },
   "outputs": [
    {
     "name": "stdout",
     "output_type": "stream",
     "text": []
    }
   ],
   "source": [
    "grep -w day haiku.txt"
   ]
  },
  {
   "cell_type": "markdown",
   "metadata": {
    "slideshow": {
     "slide_type": "skip"
    }
   },
   "source": [
    "In this case, there aren’t any, so ```grep```’s output is empty.\n",
    "\n",
    "Another useful option is ```-n```, which numbers the lines that match:"
   ]
  },
  {
   "cell_type": "code",
   "execution_count": 8,
   "metadata": {
    "collapsed": false,
    "slideshow": {
     "slide_type": "skip"
    }
   },
   "outputs": [
    {
     "name": "stdout",
     "output_type": "stream",
     "text": [
      "5:With searching comes loss\r\n",
      "9:Yesterday it worked\r\n",
      "10:Today it is not working\r\n"
     ]
    }
   ],
   "source": [
    "grep -n it haiku.txt"
   ]
  },
  {
   "cell_type": "markdown",
   "metadata": {
    "slideshow": {
     "slide_type": "skip"
    }
   },
   "source": [
    "Here, we can see that lines 5, 9, and 10 contain the letters “it”.\n",
    "\n",
    "We can combine options (i.e. flags) as we do with other Unix commands. For example, let’s find the lines that contain the word “the”. We can combine the option ```-w``` to find the lines that contain the word “the” and ```-n ```to number the lines that match:"
   ]
  },
  {
   "cell_type": "code",
   "execution_count": 9,
   "metadata": {
    "collapsed": false,
    "slideshow": {
     "slide_type": "skip"
    }
   },
   "outputs": [
    {
     "name": "stdout",
     "output_type": "stream",
     "text": [
      "2:Is not the true Tao, until\r\n",
      "6:and the presence of absence:\r\n"
     ]
    }
   ],
   "source": [
    "grep -n -w the haiku.txt"
   ]
  },
  {
   "cell_type": "markdown",
   "metadata": {
    "slideshow": {
     "slide_type": "skip"
    }
   },
   "source": [
    "Now we want to use the option ```-i``` to make our search case-insensitive:"
   ]
  },
  {
   "cell_type": "code",
   "execution_count": 10,
   "metadata": {
    "collapsed": false,
    "slideshow": {
     "slide_type": "skip"
    }
   },
   "outputs": [
    {
     "name": "stdout",
     "output_type": "stream",
     "text": [
      "1:The Tao that is seen\r\n",
      "2:Is not the true Tao, until\r\n",
      "6:and the presence of absence:\r\n"
     ]
    }
   ],
   "source": [
    "grep -n -w -i the haiku.txt"
   ]
  },
  {
   "cell_type": "markdown",
   "metadata": {
    "slideshow": {
     "slide_type": "skip"
    }
   },
   "source": [
    "Now, we want to use the option ```-v``` to invert our search, i.e., we want to output the lines that do not contain the word “the”."
   ]
  },
  {
   "cell_type": "code",
   "execution_count": 11,
   "metadata": {
    "collapsed": false,
    "slideshow": {
     "slide_type": "skip"
    }
   },
   "outputs": [
    {
     "name": "stdout",
     "output_type": "stream",
     "text": [
      "1:The Tao that is seen\r\n",
      "3:You bring fresh toner.\r\n",
      "4:\r\n",
      "5:With searching comes loss\r\n",
      "7:\"My Thesis\" not found.\r\n",
      "8:\r\n",
      "9:Yesterday it worked\r\n",
      "10:Today it is not working\r\n",
      "11:Software is like that.\r\n"
     ]
    }
   ],
   "source": [
    "grep -n -w -v the haiku.txt"
   ]
  },
  {
   "cell_type": "markdown",
   "metadata": {
    "slideshow": {
     "slide_type": "skip"
    }
   },
   "source": [
    "```grep``` has lots of other options. To find out what they are, we can type ```man grep```. "
   ]
  },
  {
   "cell_type": "markdown",
   "metadata": {
    "slideshow": {
     "slide_type": "slide"
    }
   },
   "source": [
    "---\n",
    "\n",
    "#### Exercise 1:\n",
    "\n",
    "Use grep to produce the following output:\n",
    "\n",
    "    and the presence of absence\n",
    "    \n",
    "from searching ```haiku.txt```.\n",
    "\n",
    "---"
   ]
  },
  {
   "cell_type": "markdown",
   "metadata": {
    "slideshow": {
     "slide_type": "skip"
    }
   },
   "source": [
    "<div class=\"alert alert-info\">\n",
    "<h3>Wildcards</h3>\n",
    "</div>\n",
    "\n",
    "```grep```‘s real power doesn’t come from its options, though; it comes from the fact that patterns can include wildcards. (The technical name for these is regular expressions, which is what the “re” in “grep” stands for.) Regular expressions are both complex and powerful, though we won't cover them much here. As a taster, we can find lines that have an ’o’ in the second position like this:\n",
    "\n",
    "    $ grep -E '^.o' haiku.txt\n",
    "    You bring fresh toner.\n",
    "    Today it is not working\n",
    "    Software is like that.\n",
    "\n",
    "We use the ```-E``` flag and put the pattern in quotes to prevent the shell from trying to interpret it. (If the pattern contained a ‘*’, for example, the shell would try to expand it before running ```grep```.) The ‘^’ in the pattern anchors the match to the start of the line. The ‘.’ matches a single character (just like ‘?’ in the shell), while the ‘o’ matches an actual ‘o’."
   ]
  },
  {
   "cell_type": "markdown",
   "metadata": {
    "slideshow": {
     "slide_type": "skip"
    }
   },
   "source": [
    "While ```grep``` finds lines in files, the ```find``` command finds files themselves. Again, it has a lot of options; to show how the simplest ones work, we’ll use the directory tree shown below."
   ]
  },
  {
   "cell_type": "markdown",
   "metadata": {
    "slideshow": {
     "slide_type": "slide"
    }
   },
   "source": [
    "![File tree for find example](images/find-file-tree.svg)"
   ]
  },
  {
   "cell_type": "markdown",
   "metadata": {
    "slideshow": {
     "slide_type": "skip"
    }
   },
   "source": [
    "Nelle’s ```writing``` directory contains one file called ```haiku.txt``` and four subdirectories: ```thesis``` (which is sadly empty), ```data``` (which contains two files ```one.txt``` and ```two.txt```), a ```tools``` directory that contains the programs ```format``` and ```stats```, and an empty subdirectory called ```old```.\n",
    "\n",
    "For our first command, let’s run ```find . -type d```. As always, the ```.``` on its own means the current working directory, which is where we want our search to start; ```-type d``` means “things that are directories”. Sure enough, ```find```’s output is the names of the five directories in our little tree (including .):\n",
    "\n",
    "\n",
    "\n"
   ]
  },
  {
   "cell_type": "code",
   "execution_count": 12,
   "metadata": {
    "collapsed": false,
    "slideshow": {
     "slide_type": "skip"
    }
   },
   "outputs": [
    {
     "name": "stdout",
     "output_type": "stream",
     "text": [
      ".\r\n",
      "./data\r\n",
      "./old\r\n",
      "./thesis\r\n",
      "./tools\r\n",
      "./tools/old\r\n"
     ]
    }
   ],
   "source": [
    "find . -type d"
   ]
  },
  {
   "cell_type": "markdown",
   "metadata": {
    "slideshow": {
     "slide_type": "skip"
    }
   },
   "source": [
    "If we change ```-type d``` to ```-type f```, we get a listing of all the files instead:"
   ]
  },
  {
   "cell_type": "code",
   "execution_count": 13,
   "metadata": {
    "collapsed": false,
    "slideshow": {
     "slide_type": "skip"
    }
   },
   "outputs": [
    {
     "name": "stdout",
     "output_type": "stream",
     "text": [
      "./data/one.txt\r\n",
      "./data/two.txt\r\n",
      "./haiku.txt\r\n",
      "./old/.my.log\r\n",
      "./thesis/empty-draft.md\r\n",
      "./tools/format\r\n",
      "./tools/old/oldtool\r\n",
      "./tools/stats\r\n"
     ]
    }
   ],
   "source": [
    "find . -type f"
   ]
  },
  {
   "cell_type": "markdown",
   "metadata": {
    "slideshow": {
     "slide_type": "skip"
    }
   },
   "source": [
    "```find``` automatically goes into subdirectories, their subdirectories, and so on to find everything that matches the pattern we’ve given it. If we don’t want it to, we can use ```-maxdepth``` to restrict the depth of search:"
   ]
  },
  {
   "cell_type": "code",
   "execution_count": 14,
   "metadata": {
    "collapsed": false,
    "slideshow": {
     "slide_type": "skip"
    }
   },
   "outputs": [
    {
     "name": "stdout",
     "output_type": "stream",
     "text": [
      "./haiku.txt\r\n"
     ]
    }
   ],
   "source": [
    "find . -maxdepth 1 -type f"
   ]
  },
  {
   "cell_type": "markdown",
   "metadata": {
    "slideshow": {
     "slide_type": "skip"
    }
   },
   "source": [
    "The opposite of ```-maxdepth``` is ```-mindepth```, which tells find to only report things that are at or below a certain depth. ```-mindepth 2``` therefore finds all the files that are two or more levels below us:"
   ]
  },
  {
   "cell_type": "code",
   "execution_count": 15,
   "metadata": {
    "collapsed": false,
    "slideshow": {
     "slide_type": "skip"
    }
   },
   "outputs": [
    {
     "name": "stdout",
     "output_type": "stream",
     "text": [
      "./data/one.txt\r\n",
      "./data/two.txt\r\n",
      "./old/.my.log\r\n",
      "./thesis/empty-draft.md\r\n",
      "./tools/format\r\n",
      "./tools/old/oldtool\r\n",
      "./tools/stats\r\n"
     ]
    }
   ],
   "source": [
    "find . -mindepth 2 -type f"
   ]
  },
  {
   "cell_type": "code",
   "execution_count": 16,
   "metadata": {
    "collapsed": false,
    "slideshow": {
     "slide_type": "skip"
    }
   },
   "outputs": [
    {
     "name": "stdout",
     "output_type": "stream",
     "text": [
      "./haiku.txt\r\n"
     ]
    }
   ],
   "source": [
    "find . -name *.txt"
   ]
  },
  {
   "cell_type": "markdown",
   "metadata": {
    "slideshow": {
     "slide_type": "skip"
    }
   },
   "source": [
    "We expected it to find all the text files, but it only prints out ```./haiku.txt```. The problem is that the shell expands wildcard characters like ```*``` before commands run. Since ```*.txt``` in the current directory expands to ```haiku.txt```, the command we actually ran was:"
   ]
  },
  {
   "cell_type": "code",
   "execution_count": 17,
   "metadata": {
    "collapsed": false,
    "slideshow": {
     "slide_type": "skip"
    }
   },
   "outputs": [
    {
     "name": "stdout",
     "output_type": "stream",
     "text": [
      "./haiku.txt\r\n"
     ]
    }
   ],
   "source": [
    "find . -name haiku.txt"
   ]
  },
  {
   "cell_type": "markdown",
   "metadata": {
    "slideshow": {
     "slide_type": "skip"
    }
   },
   "source": [
    "```find``` did what we asked; we just asked for the wrong thing.\n",
    "\n",
    "To get what we want, let’s do what we did with ```grep```: put ```*.txt``` in single quotes to prevent the shell from expanding the ```*``` wildcard. This way, ```find``` actually gets the pattern ```*.txt```, not the expanded filename ```haiku.txt```:"
   ]
  },
  {
   "cell_type": "code",
   "execution_count": 18,
   "metadata": {
    "collapsed": false,
    "slideshow": {
     "slide_type": "skip"
    }
   },
   "outputs": [
    {
     "name": "stdout",
     "output_type": "stream",
     "text": [
      "./data/one.txt\r\n",
      "./data/two.txt\r\n",
      "./haiku.txt\r\n"
     ]
    }
   ],
   "source": [
    "find . -name '*.txt'"
   ]
  },
  {
   "cell_type": "markdown",
   "metadata": {
    "slideshow": {
     "slide_type": "slide"
    }
   },
   "source": [
    "---\n",
    "\n",
    "#### Exercise 2\n",
    "\n",
    "Use ```find``` to locate all of the Markdown (.md) files in the writing directory.\n",
    "\n",
    "#### Exercise 3\n",
    "\n",
    "```find``` has many useful options.  One is the ability to search by file size using the ```-size``` flag.  The flag is used like this:\n",
    "\n",
    "    find . -size 100k\n",
    "    \n",
    "where you can use \n",
    "\n",
    "* b – for 512-byte blocks (this is the default if no suffix is used)\n",
    "* c – for bytes\n",
    "* w – for two-byte words\n",
    "* k – for Kilobytes (units of 1024 bytes)\n",
    "* M – for Megabytes (units of 1048576 bytes)\n",
    "* G – for Gigabytes (units of 1073741824 bytes)\n",
    "\n",
    "You can search for the exact file size, or for bigger (+) or smaller (-).  For example, to find all files larger than 1M, we would use:\n",
    "\n",
    "    find . -size +1M\n",
    "    \n",
    "For this exercise, I have generated 1000 files with random binary in the /data directory.  They range from 0 to 50 kilobytes in size.  Use ```find``` to determine which files are larger than 40 kilobytes in size, then determine how many are smaller than 40 kilobytes.\n",
    "\n",
    "Gotcha:  count the number of each.  Do they add up to 1000?\n",
    "\n",
    "---"
   ]
  },
  {
   "cell_type": "markdown",
   "metadata": {
    "slideshow": {
     "slide_type": "skip"
    }
   },
   "source": [
    "<div class=\"alert alert-info\">\n",
    "<h3>Listing vs finding</h3>\n",
    "</div>\n",
    "\n",
    "```ls``` and ```find``` can be made to do similar things given the right options, but under normal circumstances, ```ls``` lists everything it can, while ```find``` searches for things with certain properties and shows them."
   ]
  },
  {
   "cell_type": "markdown",
   "metadata": {
    "slideshow": {
     "slide_type": "skip"
    }
   },
   "source": [
    "As we said earlier, the command line’s power lies in combining tools. We’ve seen how to do that with pipes; let’s look at another technique. As we just saw, ```find . -name '*.txt'``` gives us a list of all text files in or below the current directory. How can we combine that with ```wc -l``` to count the lines in all those files?\n",
    "\n",
    "The simplest way is to put the ```find``` command inside ```$()```:"
   ]
  },
  {
   "cell_type": "code",
   "execution_count": 19,
   "metadata": {
    "collapsed": false,
    "slideshow": {
     "slide_type": "skip"
    }
   },
   "outputs": [
    {
     "name": "stdout",
     "output_type": "stream",
     "text": [
      "      70 ./data/one.txt\r\n",
      "     300 ./data/two.txt\r\n",
      "      11 ./haiku.txt\r\n",
      "     381 total\r\n"
     ]
    }
   ],
   "source": [
    "wc -l $(find . -name '*.txt')"
   ]
  },
  {
   "cell_type": "markdown",
   "metadata": {
    "slideshow": {
     "slide_type": "skip"
    }
   },
   "source": [
    "When the shell executes this command, the first thing it does is run whatever is inside the ```$()```. It then replaces the ```$()``` expression with that command’s output. Since the output of ```find``` is the three filenames ```./data/one.txt```, ```./data/two.txt```, and ```./haiku.txt```, the shell constructs the command:"
   ]
  },
  {
   "cell_type": "code",
   "execution_count": 20,
   "metadata": {
    "collapsed": false,
    "slideshow": {
     "slide_type": "skip"
    }
   },
   "outputs": [
    {
     "name": "stdout",
     "output_type": "stream",
     "text": [
      "      70 ./data/one.txt\r\n",
      "     300 ./data/two.txt\r\n",
      "      11 ./haiku.txt\r\n",
      "     381 total\r\n"
     ]
    }
   ],
   "source": [
    "wc -l ./data/one.txt ./data/two.txt ./haiku.txt"
   ]
  },
  {
   "cell_type": "markdown",
   "metadata": {
    "slideshow": {
     "slide_type": "skip"
    }
   },
   "source": [
    "which is what we wanted. This expansion is exactly what the shell does when it expands wildcards like * and ?, but lets us use any command we want as our own “wildcard”.\n",
    "\n",
    "Another way to do this is with the -exec flag:"
   ]
  },
  {
   "cell_type": "code",
   "execution_count": 21,
   "metadata": {
    "collapsed": false,
    "slideshow": {
     "slide_type": "skip"
    }
   },
   "outputs": [
    {
     "name": "stdout",
     "output_type": "stream",
     "text": [
      "      70 ./data/one.txt\r\n",
      "     300 ./data/two.txt\r\n",
      "      11 ./haiku.txt\r\n"
     ]
    }
   ],
   "source": [
    "find . -name '*.txt' -exec wc -l {} \\;"
   ]
  },
  {
   "cell_type": "markdown",
   "metadata": {
    "slideshow": {
     "slide_type": "skip"
    }
   },
   "source": [
    "Here, we pass the command we want find to execute on each file (```wc -l```) to the exec flag.  The '{}' argument stands for 'the file to operate on'.  So ```find``` locates ```./data/one.txt```, replaces the {} with ```./data/one.txt```, and passes it to ```wc -l``` before finding the next file and repeating the process.  You will see this form much more often online when searching for help.\n",
    "\n",
    "You may also see the ```xargs``` command used with find, especially when operating on many files:\n",
    "\n",
    "    find . -name '*.txt' | xargs wc -l\n",
    "    "
   ]
  },
  {
   "cell_type": "markdown",
   "metadata": {
    "slideshow": {
     "slide_type": "skip"
    }
   },
   "source": [
    "It’s very common to use find and grep together. The first finds files that match a pattern; the second looks for lines inside those files that match another pattern. Here, for example, we can find PDB files that contain iron atoms by looking for the string “FE” in all the .pdb files above the current directory:"
   ]
  },
  {
   "cell_type": "code",
   "execution_count": 22,
   "metadata": {
    "collapsed": false,
    "slideshow": {
     "slide_type": "skip"
    }
   },
   "outputs": [
    {
     "name": "stdout",
     "output_type": "stream",
     "text": [
      "../data/pdb/heme.pdb:ATOM     25 FE           1      -0.924   0.535  -0.518\r\n"
     ]
    }
   ],
   "source": [
    "grep FE $(find .. -name '*.pdb')"
   ]
  },
  {
   "cell_type": "markdown",
   "metadata": {
    "slideshow": {
     "slide_type": "skip"
    }
   },
   "source": [
    "<div class=\"alert alert-info\">\n",
    "<h3>Binary files</h3>\n",
    "</div>\n",
    "\n",
    "We have focused exclusively on finding things in text files. What if your data is stored as images, in databases, or in some other format? One option would be to extend tools like grep to handle those formats. This hasn’t happened, and probably won’t, because there are too many formats to support.\n",
    "\n",
    "The second option is to convert the data to text, or extract the text-ish bits from the data. This is probably the most common approach, since it only requires people to build one tool per data format (to extract information). On the one hand, it makes simple things easy to do. On the negative side, complex things are usually impossible. For example, it’s easy enough to write a program that will extract X and Y dimensions from image files for ```grep``` to play with, but how would you write something to find values in a spreadsheet whose cells contained formulas?\n",
    "\n",
    "The third choice is to recognize that the shell and text processing have their limits, and to use a programming language such as Python instead. When the time comes to do this, don’t be too hard on the shell: many modern programming languages, Python included, have borrowed a lot of ideas from it, and imitation is also the sincerest form of praise."
   ]
  },
  {
   "cell_type": "markdown",
   "metadata": {
    "slideshow": {
     "slide_type": "skip"
    }
   },
   "source": [
    "The Unix shell is older than most of the people who use it. It has survived so long because it is one of the most productive programming environments ever created — maybe even the most productive. Its syntax may be cryptic, but people who have mastered it can experiment with different commands interactively, then use what they have learned to automate their work. Graphical user interfaces may be better at the first, but the shell is still unbeaten at the second. And as Alfred North Whitehead wrote in 1911, “Civilization advances by extending the number of important operations which we can perform without thinking about them.”"
   ]
  }
 ],
 "metadata": {
  "celltoolbar": "Slideshow",
  "kernelspec": {
   "display_name": "Bash",
   "language": "bash",
   "name": "bash"
  },
  "language_info": {
   "codemirror_mode": "shell",
   "file_extension": ".sh",
   "mimetype": "text/x-sh",
   "name": "bash"
  }
 },
 "nbformat": 4,
 "nbformat_minor": 0
}
